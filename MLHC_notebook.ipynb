{
 "cells": [
  {
   "cell_type": "code",
   "execution_count": null,
   "metadata": {},
   "outputs": [],
   "source": [
    "from module_1 import *\n",
    "from module_2 import *\n",
    "from module_3 import *\n",
    "import psycopg2"
   ]
  },
  {
   "cell_type": "code",
   "execution_count": null,
   "metadata": {},
   "outputs": [],
   "source": [
    "# csv file with an identinval format to model_a_mimic_cohort_v2\n",
    "file_a_path = \"XXXX\"\n",
    "\n",
    "# the model that you evaluated.\n",
    "model_type = 'a'\n",
    "\n",
    "# db connection\n",
    "db_conn = psycopg2.connect(\n",
    "    host=\"localhost\"\n",
    "    database=\"XXXXX\" \n",
    "    user=\"XXXXX\"\n",
    "    password=\"XXXXX\")\n",
    "\n",
    "# The exact details for XXXXX will be given in the meeting on Augsut 15, 2021 and will be on the portable USB #\n"
   ]
  },
  {
   "cell_type": "code",
   "execution_count": null,
   "metadata": {},
   "outputs": [],
   "source": [
    "# Module 1\n",
    "external_validation_set = module_1_cohort creation(file_a_path, db_conn, model_type)\n",
    "\n",
    "# Module 2\n",
    "processed_external_validation_set = module_2_preprocessing(external_validation_set, model_type)\n",
    "\n",
    "# Module 3\n",
    "module_3_model(processed_external_validation_set, model_type)"
   ]
  }
 ],
 "metadata": {
  "kernelspec": {
   "display_name": "Python 3 (ipykernel)",
   "language": "python",
   "name": "python3"
  },
  "language_info": {
   "codemirror_mode": {
    "name": "ipython",
    "version": 3
   },
   "file_extension": ".py",
   "mimetype": "text/x-python",
   "name": "python",
   "nbconvert_exporter": "python",
   "pygments_lexer": "ipython3",
   "version": "3.8.5"
  }
 },
 "nbformat": 4,
 "nbformat_minor": 2
}
